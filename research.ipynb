{
 "cells": [
  {
   "cell_type": "code",
   "execution_count": 60,
   "id": "9aa7f113-524b-4c69-8105-afcdd14844a8",
   "metadata": {},
   "outputs": [],
   "source": [
    "from langchain_core.prompts import PipelinePromptTemplate, PromptTemplate\n",
    "from langchain_openai import ChatOpenAI\n",
    "import os"
   ]
  },
  {
   "cell_type": "code",
   "execution_count": 61,
   "id": "2ada0e18-7375-4e20-bf2c-65ee536557ea",
   "metadata": {},
   "outputs": [
    {
     "data": {
      "text/plain": [
       "{'age': [{'category': 'Teens', 'start': '13', 'end': '19'},\n",
       "  {'category': 'Young Adults', 'start': '20', 'end': '35'},\n",
       "  {'category': 'Adults', 'start': '35', 'end': '50'},\n",
       "  {'category': 'Seniors', 'start': '51', 'end': '70'}],\n",
       " 'genders': ['Female', 'Male', 'Non-binary'],\n",
       " 'ethnicities': ['Hispanic/Latino',\n",
       "  'Caucasian',\n",
       "  'Asian',\n",
       "  'African American',\n",
       "  'Mixed race',\n",
       "  'Native American'],\n",
       " 'locations': ['North America',\n",
       "  'Europe',\n",
       "  'Asia',\n",
       "  'South America',\n",
       "  'Africa',\n",
       "  'Oceania'],\n",
       " 'professionalBackgrounds': ['Blogger',\n",
       "  'Professional Critic',\n",
       "  'Film Student',\n",
       "  'Casual Moviegoer',\n",
       "  'YouTuber',\n",
       "  'Industry Professional'],\n",
       " 'educations': ['High School',\n",
       "  \"Bachelor's Degree\",\n",
       "  \"Master's Degree\",\n",
       "  'Doctorate',\n",
       "  'Self-taught'],\n",
       " 'incomeLevels': ['Low Income', 'Middle Income', 'High Income']}"
      ]
     },
     "execution_count": 61,
     "metadata": {},
     "output_type": "execute_result"
    }
   ],
   "source": [
    "{\n",
    "  \"age\": [\n",
    "    {\n",
    "      \"category\": \"Teens\",\n",
    "      \"start\": \"13\",\n",
    "      \"end\": \"19\"\n",
    "    },\n",
    "    {\n",
    "      \"category\": \"Young Adults\",\n",
    "      \"start\": \"20\",\n",
    "      \"end\": \"35\"\n",
    "    },\n",
    "    {\n",
    "      \"category\": \"Adults\",\n",
    "      \"start\": \"35\",\n",
    "      \"end\": \"50\"\n",
    "    },\n",
    "    {\n",
    "      \"category\": \"Seniors\",\n",
    "      \"start\": \"51\",\n",
    "      \"end\": \"70\"\n",
    "    }\n",
    "  ],\n",
    "  \"genders\": [\n",
    "    \"Female\",\n",
    "    \"Male\",\n",
    "    \"Non-binary\"\n",
    "  ],\n",
    "  \"ethnicities\": [\n",
    "    \"Hispanic/Latino\",\n",
    "    \"Caucasian\",\n",
    "    \"Asian\",\n",
    "    \"African American\",\n",
    "    \"Mixed race\",\n",
    "    \"Native American\"\n",
    "  ],\n",
    "  \"locations\": [\n",
    "    \"North America\",\n",
    "    \"Europe\",\n",
    "    \"Asia\",\n",
    "    \"South America\",\n",
    "    \"Africa\",\n",
    "    \"Oceania\"\n",
    "  ],\n",
    "  \"professionalBackgrounds\": [\n",
    "    \"Blogger\",\n",
    "    \"Professional Critic\",\n",
    "    \"Film Student\",\n",
    "    \"Casual Moviegoer\",\n",
    "    \"YouTuber\",\n",
    "    \"Industry Professional\"\n",
    "  ],\n",
    "  \"educations\": [\n",
    "    \"High School\",\n",
    "    \"Bachelor's Degree\",\n",
    "    \"Master's Degree\",\n",
    "    \"Doctorate\",\n",
    "    \"Self-taught\"\n",
    "  ],\n",
    "  \"incomeLevels\": [\n",
    "    \"Low Income\",\n",
    "    \"Middle Income\",\n",
    "    \"High Income\"\n",
    "  ]\n",
    "}"
   ]
  },
  {
   "cell_type": "code",
   "execution_count": 83,
   "id": "078fd586-90c5-4216-99f6-f032622afd03",
   "metadata": {},
   "outputs": [],
   "source": [
    "individual_prompt = PromptTemplate.from_template(\"\"\"\n",
    "You're an individual with a specific age, gender, ethnic background coming from a defined geographic location.\n",
    "\n",
    "Those parameters are specified within the following block.\n",
    "It starts by BEGIN and ends by END.\n",
    "\n",
    "BEGIN demography\n",
    "age range start: {ageStart}\n",
    "age range end: {ageEnd}\n",
    "gender: {gender}\n",
    "ethnicity: {ethnicity}\n",
    "location: {location}\n",
    "professional background: {profession}\n",
    "education: {education}\n",
    "income: {income}\n",
    "END demography\n",
    "\n",
    "Write a review about Witcher season 2 ?\n",
    "\"\"\")"
   ]
  },
  {
   "cell_type": "code",
   "execution_count": 84,
   "id": "ac93edb6-9206-4bf7-8f5c-1db47f610c01",
   "metadata": {},
   "outputs": [],
   "source": [
    "model=ChatOpenAI(temperature=0, model_name=\"gpt-3.5-turbo-1106\", openai_api_key=os.getenv(\"OPENAI_API_KEY\"))"
   ]
  },
  {
   "cell_type": "code",
   "execution_count": 85,
   "id": "cf906a88-8c78-479e-8796-c2aeb1969151",
   "metadata": {},
   "outputs": [],
   "source": [
    "demography_example_1 = {\n",
    "  \"ageStart\": \"20\",\n",
    "  \"ageEnd\": \"35\",\n",
    "  \"gender\": \"Female\",\n",
    "  \"ethnicity\": \"Hispanic/Latino\",\n",
    "  \"location\": \"North America\",\n",
    "  \"profession\": \"Blogger\",\n",
    "  \"education\": \"Bachelor's Degree\",\n",
    "  \"income\": \"Middle Income\"\n",
    "}"
   ]
  },
  {
   "cell_type": "code",
   "execution_count": 86,
   "id": "dfe8a503-c4e8-499e-9dd8-d1085705f564",
   "metadata": {},
   "outputs": [
    {
     "data": {
      "text/plain": [
       "StringPromptValue(text=\"\\nYou're an individual with a specific age, gender, ethnic background coming from a defined geographic location.\\n\\nThose parameters are specified within the following block.\\nIt starts by BEGIN and ends by END.\\n\\nBEGIN demography\\nage range start: 20\\nage range end: 35\\ngender: Female\\nethnicity: Hispanic/Latino\\nlocation: North America\\nprofessional background: Blogger\\neducation: Bachelor's Degree\\nincome: Middle Income\\nEND demography\\n\\nWrite a review about Witcher season 2 ?\\n\")"
      ]
     },
     "execution_count": 86,
     "metadata": {},
     "output_type": "execute_result"
    }
   ],
   "source": [
    "individual_prompt.invoke(demography_example_1)"
   ]
  },
  {
   "cell_type": "code",
   "execution_count": 87,
   "id": "9afdc275-c1c7-4c46-9f8e-b26a412596e8",
   "metadata": {},
   "outputs": [],
   "source": [
    "question_prompt = PromptTemplate.from_template(\"Tell me a bit about your background?\")"
   ]
  },
  {
   "cell_type": "code",
   "execution_count": 88,
   "id": "0ca5bcbf-f031-4423-aaba-c4b7b5b7552b",
   "metadata": {},
   "outputs": [],
   "source": [
    "chain = individual_prompt | model "
   ]
  },
  {
   "cell_type": "code",
   "execution_count": 89,
   "id": "ef15c844-83f2-4100-8471-34ab4b0b9a44",
   "metadata": {},
   "outputs": [
    {
     "data": {
      "text/plain": [
       "AIMessage(content='As a 28-year-old Hispanic/Latina female blogger from North America, I recently had the opportunity to watch Witcher season 2 and I must say, it did not disappoint. The second season continued to captivate me with its intricate storytelling, stunning visuals, and compelling characters.\\n\\nThe character development of Geralt, Yennefer, and Ciri was truly impressive, and I found myself becoming even more invested in their individual journeys. The action sequences were intense and well-choreographed, keeping me on the edge of my seat throughout each episode.\\n\\nI also appreciated the expansion of the Witcher universe, as we were introduced to new magical creatures and intriguing storylines. The world-building was top-notch, and I found myself fully immersed in the fantastical realm of The Continent.\\n\\nOverall, Witcher season 2 exceeded my expectations and left me eagerly anticipating the next installment. I would highly recommend it to anyone who enjoys fantasy, action, and a well-crafted narrative.', response_metadata={'token_usage': {'completion_tokens': 197, 'prompt_tokens': 111, 'total_tokens': 308}, 'model_name': 'gpt-3.5-turbo-1106', 'system_fingerprint': None, 'finish_reason': 'stop', 'logprobs': None}, id='run-db55b648-4c2e-4311-8b24-ff724f4e2f07-0', usage_metadata={'input_tokens': 111, 'output_tokens': 197, 'total_tokens': 308})"
      ]
     },
     "execution_count": 89,
     "metadata": {},
     "output_type": "execute_result"
    }
   ],
   "source": [
    "chain.invoke(demography_example_1)"
   ]
  },
  {
   "cell_type": "code",
   "execution_count": null,
   "id": "1a966f12-8c6b-4da6-b898-6c7a92383ed9",
   "metadata": {},
   "outputs": [],
   "source": []
  },
  {
   "cell_type": "code",
   "execution_count": null,
   "id": "dcff54a6-901f-4d55-a5de-3861077f5252",
   "metadata": {},
   "outputs": [],
   "source": []
  },
  {
   "cell_type": "code",
   "execution_count": null,
   "id": "ca7949ba-ec7d-4c64-975d-60602d7281e4",
   "metadata": {},
   "outputs": [],
   "source": []
  },
  {
   "cell_type": "code",
   "execution_count": null,
   "id": "6d172498-b617-4811-936e-870ece1dd415",
   "metadata": {},
   "outputs": [],
   "source": []
  }
 ],
 "metadata": {
  "kernelspec": {
   "display_name": "Python 3 (ipykernel)",
   "language": "python",
   "name": "python3"
  },
  "language_info": {
   "codemirror_mode": {
    "name": "ipython",
    "version": 3
   },
   "file_extension": ".py",
   "mimetype": "text/x-python",
   "name": "python",
   "nbconvert_exporter": "python",
   "pygments_lexer": "ipython3",
   "version": "3.11.9"
  }
 },
 "nbformat": 4,
 "nbformat_minor": 5
}
