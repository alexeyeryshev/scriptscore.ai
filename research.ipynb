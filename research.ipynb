{
 "cells": [
  {
   "cell_type": "code",
   "execution_count": 118,
   "id": "9aa7f113-524b-4c69-8105-afcdd14844a8",
   "metadata": {},
   "outputs": [],
   "source": [
    "from langchain_core.prompts import PipelinePromptTemplate, PromptTemplate\n",
    "from langchain_openai import ChatOpenAI\n",
    "import os\n",
    "import json\n",
    "import random"
   ]
  },
  {
   "cell_type": "code",
   "execution_count": 119,
   "id": "2ada0e18-7375-4e20-bf2c-65ee536557ea",
   "metadata": {},
   "outputs": [
    {
     "data": {
      "text/plain": [
       "{'age': [{'category': 'Teens', 'start': 13, 'end': 19},\n",
       "  {'category': 'Young Adults', 'start': 20, 'end': 35},\n",
       "  {'category': 'Adults', 'start': 35, 'end': 50},\n",
       "  {'category': 'Seniors', 'start': 51, 'end': 70}],\n",
       " 'genders': ['Female', 'Male', 'Non-binary'],\n",
       " 'ethnicities': ['Hispanic/Latino',\n",
       "  'Caucasian',\n",
       "  'Asian',\n",
       "  'African American',\n",
       "  'Mixed race',\n",
       "  'Native American'],\n",
       " 'locations': ['North America',\n",
       "  'Europe',\n",
       "  'Asia',\n",
       "  'South America',\n",
       "  'Africa',\n",
       "  'Oceania'],\n",
       " 'professionalBackgrounds': ['Blogger',\n",
       "  'Professional Critic',\n",
       "  'Film Student',\n",
       "  'Casual Moviegoer',\n",
       "  'YouTuber',\n",
       "  'Industry Professional',\n",
       "  'IT Professional',\n",
       "  'Marketing Professional',\n",
       "  'Teacher',\n",
       "  'Medical Professional',\n",
       "  'Literature Teacher',\n",
       "  'History Teacher'],\n",
       " 'educations': ['High School',\n",
       "  \"Bachelor's Degree\",\n",
       "  \"Master's Degree\",\n",
       "  'Doctorate',\n",
       "  'Self-taught'],\n",
       " 'incomeLevels': ['Low Income', 'Middle Income', 'High Income']}"
      ]
     },
     "execution_count": 119,
     "metadata": {},
     "output_type": "execute_result"
    }
   ],
   "source": [
    "file_path = 'demography.json'\n",
    "demography = None\n",
    "with open(file_path, 'r') as file:\n",
    "    demography = json.load(file)\n",
    "demography"
   ]
  },
  {
   "cell_type": "code",
   "execution_count": 120,
   "id": "c32bbca4-f6f7-4def-85aa-b19467cb6eac",
   "metadata": {},
   "outputs": [],
   "source": [
    "def get_random_persona(demography, seed=None):\n",
    "    if seed:\n",
    "        random.seed(seed)\n",
    "    while True:\n",
    "        permutation = {}\n",
    "        permutation['age'] = random.choice(demography['age'])\n",
    "        permutation['gender'] = random.choice(demography['genders'])\n",
    "        permutation['ethnicity'] = random.choice(demography['ethnicities'])\n",
    "        permutation['location'] = random.choice(demography['locations'])\n",
    "        permutation['professionalBackground'] = random.choice(demography['professionalBackgrounds'])\n",
    "        permutation['education'] = random.choice(demography['educations'])\n",
    "        permutation['incomeLevel'] = random.choice(demography['incomeLevels'])\n",
    "        yield permutation"
   ]
  },
  {
   "cell_type": "code",
   "execution_count": 121,
   "id": "6c837f0d-14d0-428a-8187-5b95da3f703a",
   "metadata": {},
   "outputs": [
    {
     "data": {
      "text/plain": [
       "{'age': {'category': 'Teens', 'start': 13, 'end': 19},\n",
       " 'gender': 'Female',\n",
       " 'ethnicity': 'Native American',\n",
       " 'location': 'Asia',\n",
       " 'professionalBackground': 'Casual Moviegoer',\n",
       " 'education': \"Bachelor's Degree\",\n",
       " 'incomeLevel': 'Low Income'}"
      ]
     },
     "execution_count": 121,
     "metadata": {},
     "output_type": "execute_result"
    }
   ],
   "source": [
    "random_persona_generator = get_random_persona(demography, 42)\n",
    "next(random_persona_generator)"
   ]
  },
  {
   "cell_type": "code",
   "execution_count": 122,
   "id": "078fd586-90c5-4216-99f6-f032622afd03",
   "metadata": {},
   "outputs": [],
   "source": [
    "individual_prompt = PromptTemplate.from_template(\"\"\"\n",
    "You're an individual with a specific age, gender, or ethnic background from a defined geographic location.\n",
    "\n",
    "Those parameters are specified within the following block.\n",
    "It starts with \"BEGIN demography\" and ends with \"END demography\".\n",
    "\n",
    "BEGIN demography\n",
    "age range start: {ageStart}\n",
    "age range end: {ageEnd}\n",
    "gender: {gender}\n",
    "ethnicity: {ethnicity}\n",
    "location: {location}\n",
    "professional background: {profession}\n",
    "education: {education}\n",
    "income: {income}\n",
    "END demography\n",
    "\"\"\")"
   ]
  },
  {
   "cell_type": "code",
   "execution_count": 123,
   "id": "3f66bfea-717d-44f0-9c84-3c792f646792",
   "metadata": {},
   "outputs": [],
   "source": [
    "simple_review_prompt = PromptTemplate.from_template(\"\"\"\n",
    "Write a review about Witcher season 2? \n",
    "\"\"\")"
   ]
  },
  {
   "cell_type": "code",
   "execution_count": 138,
   "id": "4a6e9e29-3b59-40cd-b3dc-5a018104d70f",
   "metadata": {},
   "outputs": [],
   "source": [
    "project_prompt = PromptTemplate.from_template(\"\"\"\n",
    "Below are high-level movie or TV show ideas and some essential parameters.\n",
    "It starts with \"BEGIN content\" and ends with \"END content\".\n",
    "\n",
    "BEGIN content\n",
    "name: {name}\n",
    "type: {type}\n",
    "cast: {cast}\n",
    "budget: {budget}\n",
    "END content\n",
    "\"\"\")"
   ]
  },
  {
   "cell_type": "code",
   "execution_count": 154,
   "id": "10c7a470-07c5-4046-835a-e54e58f7afe4",
   "metadata": {},
   "outputs": [],
   "source": [
    "cta_prompt = PromptTemplate.from_template(\"\"\"\n",
    "Write a simple review as someone who just watched the {name}.\n",
    "Highlight points that you liked and didn't like.\n",
    "Be honest, your feedback is valuable and will be applied by a studio to improve the content.\n",
    "\"\"\")"
   ]
  },
  {
   "cell_type": "code",
   "execution_count": 155,
   "id": "bb392271-5d18-429a-af62-3bd7e7ed9316",
   "metadata": {},
   "outputs": [],
   "source": [
    "full_prompt = individual_prompt + project_prompt + cta_prompt"
   ]
  },
  {
   "cell_type": "code",
   "execution_count": 156,
   "id": "ac93edb6-9206-4bf7-8f5c-1db47f610c01",
   "metadata": {},
   "outputs": [],
   "source": [
    "model=ChatOpenAI(temperature=0, model_name=\"gpt-3.5-turbo-1106\", openai_api_key=os.getenv(\"OPENAI_API_KEY\"))"
   ]
  },
  {
   "cell_type": "code",
   "execution_count": 157,
   "id": "9e3aabb1-8dcc-4602-81ab-43defb8c1e22",
   "metadata": {},
   "outputs": [],
   "source": [
    "def generate_demography_prompt_input(persona):\n",
    "    return {\n",
    "      \"ageStart\": persona[\"age\"][\"start\"],\n",
    "      \"ageEnd\": persona[\"age\"][\"end\"],\n",
    "      \"gender\": persona[\"gender\"],\n",
    "      \"ethnicity\": persona[\"ethnicity\"],\n",
    "      \"location\": persona[\"location\"],\n",
    "      \"profession\": persona[\"professionalBackground\"],\n",
    "      \"education\": persona[\"education\"],\n",
    "      \"income\": persona[\"incomeLevel\"]\n",
    "    }"
   ]
  },
  {
   "cell_type": "code",
   "execution_count": 158,
   "id": "9fdcbb5e-c497-4784-aac9-0d73e26be9f1",
   "metadata": {},
   "outputs": [],
   "source": [
    "def generate_content_prompt_input(content):\n",
    "    return {\n",
    "        \"name\": content[\"name\"],\n",
    "        \"type\": content[\"type\"],\n",
    "        \"cast\": \",\".join(content[\"cast\"]),\n",
    "        \"budget\": content[\"budget\"]\n",
    "    }"
   ]
  },
  {
   "cell_type": "code",
   "execution_count": 159,
   "id": "448bd915-effa-4a42-ad22-63cef6eef0ae",
   "metadata": {},
   "outputs": [],
   "source": [
    "# prompt generator\n",
    "def generate_prompt_input(persona, content):\n",
    "    return {\n",
    "        **generate_demography_prompt_input(persona),\n",
    "        **generate_content_prompt_input(content)\n",
    "    }"
   ]
  },
  {
   "cell_type": "code",
   "execution_count": 160,
   "id": "dfe8a503-c4e8-499e-9dd8-d1085705f564",
   "metadata": {},
   "outputs": [],
   "source": [
    "# prompt testing\n",
    "persona = next(random_persona_generator)\n",
    "content = {\n",
    "    \"name\": \"The witcher movie\",\n",
    "    \"type\": \"Movie\",\n",
    "    \"cast\": [\"Chris Hemsworth\", \"Natalia Oreiro\"],\n",
    "    \"budget\": 4_000_000\n",
    "}\n",
    "prompt_input = generate_prompt_input(persona, content)"
   ]
  },
  {
   "cell_type": "code",
   "execution_count": 161,
   "id": "fb7935f9-f47a-4444-9b1a-f9415fcd3276",
   "metadata": {},
   "outputs": [
    {
     "data": {
      "text/plain": [
       "StringPromptValue(text='\\nYou\\'re an individual with a specific age, gender, or ethnic background from a defined geographic location.\\n\\nThose parameters are specified within the following block.\\nIt starts with \"BEGIN demography\" and ends with \"END demography\".\\n\\nBEGIN demography\\nage range start: 13\\nage range end: 19\\ngender: Male\\nethnicity: Hispanic/Latino\\nlocation: Asia\\nprofessional background: Industry Professional\\neducation: Self-taught\\nincome: Middle Income\\nEND demography\\n\\nBelow are high-level movie or TV show ideas and some essential parameters.\\nIt starts with \"BEGIN content\" and ends with \"END content\".\\n\\nBEGIN content\\nname: The witcher movie\\ntype: Movie\\ncast: Chris Hemsworth,Natalia Oreiro\\nbudget: 4000000\\nEND content\\n\\nWrite a simple review as someone who just watched the The witcher movie.\\nHighlight points that you liked and didn\\'t like.\\nBe honest, your feedback is valuable and will be applied by a studio to improve the content.\\n')"
      ]
     },
     "execution_count": 161,
     "metadata": {},
     "output_type": "execute_result"
    }
   ],
   "source": [
    "full_prompt.invoke(prompt_input)"
   ]
  },
  {
   "cell_type": "code",
   "execution_count": 163,
   "id": "0ca5bcbf-f031-4423-aaba-c4b7b5b7552b",
   "metadata": {},
   "outputs": [],
   "source": [
    "chain = full_prompt | model "
   ]
  },
  {
   "cell_type": "code",
   "execution_count": 164,
   "id": "ef15c844-83f2-4100-8471-34ab4b0b9a44",
   "metadata": {},
   "outputs": [
    {
     "data": {
      "text/plain": [
       "AIMessage(content='As a Hispanic/Latino male in the 13-19 age range from Asia, I just watched The Witcher movie and I have to say, I was thoroughly impressed. The action sequences were intense and well choreographed, and Chris Hemsworth and Natalia Oreiro delivered fantastic performances. The special effects were top-notch, and the overall production quality was excellent. The storyline kept me engaged throughout the movie, and I appreciated the attention to detail in bringing the world of The Witcher to life.\\n\\nHowever, I did feel that the pacing of the movie was a bit rushed at times, and some character development felt lacking. As a fan of the original source material, I would have liked to see a deeper exploration of the lore and mythology of The Witcher universe. Additionally, I felt that the budget constraints may have limited the scope of the movie, and certain scenes could have benefited from a larger investment.\\n\\nOverall, I thoroughly enjoyed The Witcher movie and would love to see more content from this universe. With some adjustments to pacing and character development, as well as a larger budget for future projects, I believe The Witcher franchise has the potential to become a major player in the fantasy genre.', response_metadata={'token_usage': {'completion_tokens': 241, 'prompt_tokens': 216, 'total_tokens': 457}, 'model_name': 'gpt-3.5-turbo-1106', 'system_fingerprint': 'fp_482d920018', 'finish_reason': 'stop', 'logprobs': None}, id='run-5e0a517c-6e84-4423-bc43-5715cb6b1dcf-0', usage_metadata={'input_tokens': 216, 'output_tokens': 241, 'total_tokens': 457})"
      ]
     },
     "execution_count": 164,
     "metadata": {},
     "output_type": "execute_result"
    }
   ],
   "source": [
    "chain.invoke(prompt_input)"
   ]
  },
  {
   "cell_type": "code",
   "execution_count": null,
   "id": "1a966f12-8c6b-4da6-b898-6c7a92383ed9",
   "metadata": {},
   "outputs": [],
   "source": []
  }
 ],
 "metadata": {
  "kernelspec": {
   "display_name": "Python 3 (ipykernel)",
   "language": "python",
   "name": "python3"
  },
  "language_info": {
   "codemirror_mode": {
    "name": "ipython",
    "version": 3
   },
   "file_extension": ".py",
   "mimetype": "text/x-python",
   "name": "python",
   "nbconvert_exporter": "python",
   "pygments_lexer": "ipython3",
   "version": "3.11.9"
  }
 },
 "nbformat": 4,
 "nbformat_minor": 5
}
