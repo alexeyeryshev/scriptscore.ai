{
 "cells": [
  {
   "cell_type": "code",
   "execution_count": 34,
   "id": "9aa7f113-524b-4c69-8105-afcdd14844a8",
   "metadata": {},
   "outputs": [],
   "source": [
    "from langchain_core.prompts import PipelinePromptTemplate, PromptTemplate\n",
    "from langchain_openai import ChatOpenAI\n",
    "import os\n",
    "import json\n",
    "import random"
   ]
  },
  {
   "cell_type": "code",
   "execution_count": 35,
   "id": "2ada0e18-7375-4e20-bf2c-65ee536557ea",
   "metadata": {},
   "outputs": [
    {
     "data": {
      "text/plain": [
       "{'age': [{'category': 'Teens', 'start': 13, 'end': 19},\n",
       "  {'category': 'Young Adults', 'start': 20, 'end': 35},\n",
       "  {'category': 'Adults', 'start': 35, 'end': 50},\n",
       "  {'category': 'Seniors', 'start': 51, 'end': 70}],\n",
       " 'genders': ['Female', 'Male', 'Non-binary'],\n",
       " 'ethnicities': ['Hispanic/Latino',\n",
       "  'Caucasian',\n",
       "  'Asian',\n",
       "  'African American',\n",
       "  'Mixed race',\n",
       "  'Native American'],\n",
       " 'locations': ['North America',\n",
       "  'Europe',\n",
       "  'Asia',\n",
       "  'South America',\n",
       "  'Africa',\n",
       "  'Oceania'],\n",
       " 'professionalBackgrounds': ['Blogger',\n",
       "  'Professional Critic',\n",
       "  'Film Student',\n",
       "  'Casual Moviegoer',\n",
       "  'YouTuber',\n",
       "  'Industry Professional'],\n",
       " 'educations': ['High School',\n",
       "  \"Bachelor's Degree\",\n",
       "  \"Master's Degree\",\n",
       "  'Doctorate',\n",
       "  'Self-taught'],\n",
       " 'incomeLevels': ['Low Income', 'Middle Income', 'High Income']}"
      ]
     },
     "execution_count": 35,
     "metadata": {},
     "output_type": "execute_result"
    }
   ],
   "source": [
    "file_path = 'demography.json'\n",
    "demography = None\n",
    "with open(file_path, 'r') as file:\n",
    "    demography = json.load(file)\n",
    "demography"
   ]
  },
  {
   "cell_type": "code",
   "execution_count": 42,
   "id": "c32bbca4-f6f7-4def-85aa-b19467cb6eac",
   "metadata": {},
   "outputs": [],
   "source": [
    "def get_random_persona(demography, seed=None):\n",
    "    if seed:\n",
    "        random.seed(seed)\n",
    "    while True:\n",
    "        permutation = {}\n",
    "        permutation['age'] = random.choice(demography['age'])\n",
    "        permutation['gender'] = random.choice(demography['genders'])\n",
    "        permutation['ethnicity'] = random.choice(demography['ethnicities'])\n",
    "        permutation['location'] = random.choice(demography['locations'])\n",
    "        permutation['professionalBackground'] = random.choice(demography['professionalBackgrounds'])\n",
    "        permutation['education'] = random.choice(demography['educations'])\n",
    "        permutation['incomeLevel'] = random.choice(demography['incomeLevels'])\n",
    "        yield permutation"
   ]
  },
  {
   "cell_type": "code",
   "execution_count": 52,
   "id": "6c837f0d-14d0-428a-8187-5b95da3f703a",
   "metadata": {},
   "outputs": [
    {
     "data": {
      "text/plain": [
       "{'age': {'category': 'Teens', 'start': 13, 'end': 19},\n",
       " 'gender': 'Female',\n",
       " 'ethnicity': 'Native American',\n",
       " 'location': 'Asia',\n",
       " 'professionalBackground': 'Professional Critic',\n",
       " 'education': \"Bachelor's Degree\",\n",
       " 'incomeLevel': 'Low Income'}"
      ]
     },
     "execution_count": 52,
     "metadata": {},
     "output_type": "execute_result"
    }
   ],
   "source": [
    "random_persona_generator = get_random_persona(demography, 42)\n",
    "next(random_persona_generator)"
   ]
  },
  {
   "cell_type": "code",
   "execution_count": 63,
   "id": "9e3aabb1-8dcc-4602-81ab-43defb8c1e22",
   "metadata": {},
   "outputs": [],
   "source": [
    "def generate_demography_prompt_input(persona):\n",
    "    return {\n",
    "      \"ageStart\": persona[\"age\"][\"start\"],\n",
    "      \"ageEnd\": persona[\"age\"][\"end\"],\n",
    "      \"gender\": persona[\"gender\"],\n",
    "      \"ethnicity\": persona[\"ethnicity\"],\n",
    "      \"location\": persona[\"location\"],\n",
    "      \"profession\": persona[\"professionalBackground\"],\n",
    "      \"education\": persona[\"education\"],\n",
    "      \"income\": persona[\"incomeLevel\"]\n",
    "    }"
   ]
  },
  {
   "cell_type": "code",
   "execution_count": 71,
   "id": "078fd586-90c5-4216-99f6-f032622afd03",
   "metadata": {},
   "outputs": [],
   "source": [
    "individual_prompt = PromptTemplate.from_template(\"\"\"\n",
    "You're an individual with a specific age, gender, ethnic background coming from a defined geographic location.\n",
    "\n",
    "Those parameters are specified within the following block.\n",
    "It starts by BEGIN and ends by END.\n",
    "\n",
    "BEGIN demography\n",
    "age range start: {ageStart}\n",
    "age range end: {ageEnd}\n",
    "gender: {gender}\n",
    "ethnicity: {ethnicity}\n",
    "location: {location}\n",
    "professional background: {profession}\n",
    "education: {education}\n",
    "income: {income}\n",
    "END demography\n",
    "\"\"\")"
   ]
  },
  {
   "cell_type": "code",
   "execution_count": 72,
   "id": "3f66bfea-717d-44f0-9c84-3c792f646792",
   "metadata": {},
   "outputs": [],
   "source": [
    "review_prompt = PromptTemplate.from_template(\"\"\"\n",
    "Write a review about Witcher season 2? \n",
    "\"\"\")"
   ]
  },
  {
   "cell_type": "code",
   "execution_count": 73,
   "id": "bb392271-5d18-429a-af62-3bd7e7ed9316",
   "metadata": {},
   "outputs": [],
   "source": [
    "full_prompt = individual_prompt + review_prompt"
   ]
  },
  {
   "cell_type": "code",
   "execution_count": 65,
   "id": "ac93edb6-9206-4bf7-8f5c-1db47f610c01",
   "metadata": {},
   "outputs": [],
   "source": [
    "model=ChatOpenAI(temperature=0, model_name=\"gpt-3.5-turbo-1106\", openai_api_key=os.getenv(\"OPENAI_API_KEY\"))"
   ]
  },
  {
   "cell_type": "code",
   "execution_count": 74,
   "id": "dfe8a503-c4e8-499e-9dd8-d1085705f564",
   "metadata": {},
   "outputs": [
    {
     "data": {
      "text/plain": [
       "StringPromptValue(text=\"\\nYou're an individual with a specific age, gender, ethnic background coming from a defined geographic location.\\n\\nThose parameters are specified within the following block.\\nIt starts by BEGIN and ends by END.\\n\\nBEGIN demography\\nage range start: 20\\nage range end: 35\\ngender: Male\\nethnicity: Mixed race\\nlocation: Asia\\nprofessional background: Blogger\\neducation: Bachelor's Degree\\nincome: High Income\\nEND demography\\n\\nWrite a review about Witcher season 2? \\n\")"
      ]
     },
     "execution_count": 74,
     "metadata": {},
     "output_type": "execute_result"
    }
   ],
   "source": [
    "full_prompt.invoke(generate_demography_prompt_input(next(random_persona_generator)))"
   ]
  },
  {
   "cell_type": "code",
   "execution_count": 69,
   "id": "9afdc275-c1c7-4c46-9f8e-b26a412596e8",
   "metadata": {},
   "outputs": [],
   "source": [
    "#question_prompt = PromptTemplate.from_template(\"Tell me a bit about your background?\")"
   ]
  },
  {
   "cell_type": "code",
   "execution_count": 77,
   "id": "0ca5bcbf-f031-4423-aaba-c4b7b5b7552b",
   "metadata": {},
   "outputs": [],
   "source": [
    "chain = full_prompt | model "
   ]
  },
  {
   "cell_type": "code",
   "execution_count": 78,
   "id": "ef15c844-83f2-4100-8471-34ab4b0b9a44",
   "metadata": {},
   "outputs": [
    {
     "data": {
      "text/plain": [
       "AIMessage(content='As a 28-year-old Hispanic/Latina female blogger from North America, I recently had the opportunity to watch Witcher season 2 and I must say, it did not disappoint. The second season continued to captivate me with its intricate storytelling, stunning visuals, and compelling characters.\\n\\nThe character development of Geralt, Yennefer, and Ciri was truly impressive, and I found myself becoming even more invested in their individual journeys. The action sequences were intense and well-choreographed, keeping me on the edge of my seat throughout each episode.\\n\\nI also appreciated the expansion of the Witcher universe, as we were introduced to new magical creatures and realms that added depth to the overall storyline. The political intrigue and power struggles within the various kingdoms added an extra layer of complexity to the plot, keeping me engaged and eager to see how everything would unfold.\\n\\nOverall, Witcher season 2 exceeded my expectations and left me eagerly anticipating the next installment. I would highly recommend it to anyone who enjoys fantasy, action, and a well-crafted narrative.', response_metadata={'token_usage': {'completion_tokens': 212, 'prompt_tokens': 112, 'total_tokens': 324}, 'model_name': 'gpt-3.5-turbo-1106', 'system_fingerprint': 'fp_482d920018', 'finish_reason': 'stop', 'logprobs': None}, id='run-389c2b43-e57c-4190-8fe5-66988a8cddd0-0', usage_metadata={'input_tokens': 112, 'output_tokens': 212, 'total_tokens': 324})"
      ]
     },
     "execution_count": 78,
     "metadata": {},
     "output_type": "execute_result"
    }
   ],
   "source": [
    "chain.invoke(demography_example_1)"
   ]
  },
  {
   "cell_type": "code",
   "execution_count": null,
   "id": "1a966f12-8c6b-4da6-b898-6c7a92383ed9",
   "metadata": {},
   "outputs": [],
   "source": []
  }
 ],
 "metadata": {
  "kernelspec": {
   "display_name": "Python 3 (ipykernel)",
   "language": "python",
   "name": "python3"
  },
  "language_info": {
   "codemirror_mode": {
    "name": "ipython",
    "version": 3
   },
   "file_extension": ".py",
   "mimetype": "text/x-python",
   "name": "python",
   "nbconvert_exporter": "python",
   "pygments_lexer": "ipython3",
   "version": "3.11.9"
  }
 },
 "nbformat": 4,
 "nbformat_minor": 5
}
