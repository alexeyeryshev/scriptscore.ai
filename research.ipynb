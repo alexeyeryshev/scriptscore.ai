{
 "cells": [
  {
   "cell_type": "code",
   "execution_count": 1,
   "id": "9aa7f113-524b-4c69-8105-afcdd14844a8",
   "metadata": {},
   "outputs": [],
   "source": [
    "from langchain_core.prompts import PipelinePromptTemplate, PromptTemplate\n",
    "from langchain_openai import ChatOpenAI\n",
    "import os\n",
    "import json\n",
    "import random\n",
    "import sqlite3"
   ]
  },
  {
   "cell_type": "code",
   "execution_count": 2,
   "id": "2ada0e18-7375-4e20-bf2c-65ee536557ea",
   "metadata": {},
   "outputs": [
    {
     "data": {
      "text/plain": [
       "{'age': [{'category': 'Teens', 'start': 13, 'end': 19},\n",
       "  {'category': 'Young Adults', 'start': 20, 'end': 35},\n",
       "  {'category': 'Adults', 'start': 35, 'end': 50},\n",
       "  {'category': 'Seniors', 'start': 51, 'end': 70}],\n",
       " 'genders': ['Female', 'Male', 'Non-binary'],\n",
       " 'ethnicities': ['Hispanic/Latino',\n",
       "  'Caucasian',\n",
       "  'Asian',\n",
       "  'African American',\n",
       "  'Mixed race',\n",
       "  'Native American'],\n",
       " 'locations': ['North America',\n",
       "  'Europe',\n",
       "  'Asia',\n",
       "  'South America',\n",
       "  'Africa',\n",
       "  'Oceania'],\n",
       " 'professionalBackgrounds': ['Blogger',\n",
       "  'Professional Critic',\n",
       "  'Film Student',\n",
       "  'Casual Moviegoer',\n",
       "  'YouTuber',\n",
       "  'Industry Professional',\n",
       "  'IT Professional',\n",
       "  'Marketing Professional',\n",
       "  'Teacher',\n",
       "  'Medical Professional',\n",
       "  'Literature Teacher',\n",
       "  'History Teacher'],\n",
       " 'educations': ['High School',\n",
       "  \"Bachelor's Degree\",\n",
       "  \"Master's Degree\",\n",
       "  'Doctorate',\n",
       "  'Self-taught'],\n",
       " 'incomeLevels': ['Low Income', 'Middle Income', 'High Income']}"
      ]
     },
     "execution_count": 2,
     "metadata": {},
     "output_type": "execute_result"
    }
   ],
   "source": [
    "file_path = 'demography.json'\n",
    "demography = None\n",
    "with open(file_path, 'r') as file:\n",
    "    demography = json.load(file)\n",
    "demography"
   ]
  },
  {
   "cell_type": "code",
   "execution_count": 3,
   "id": "c32bbca4-f6f7-4def-85aa-b19467cb6eac",
   "metadata": {},
   "outputs": [],
   "source": [
    "def get_random_persona(demography, seed=None):\n",
    "    if seed:\n",
    "        random.seed(seed)\n",
    "    while True:\n",
    "        permutation = {}\n",
    "        permutation['age'] = random.choice(demography['age'])\n",
    "        permutation['gender'] = random.choice(demography['genders'])\n",
    "        permutation['ethnicity'] = random.choice(demography['ethnicities'])\n",
    "        permutation['location'] = random.choice(demography['locations'])\n",
    "        permutation['professionalBackground'] = random.choice(demography['professionalBackgrounds'])\n",
    "        permutation['education'] = random.choice(demography['educations'])\n",
    "        permutation['incomeLevel'] = random.choice(demography['incomeLevels'])\n",
    "        yield permutation"
   ]
  },
  {
   "cell_type": "code",
   "execution_count": 4,
   "id": "6c837f0d-14d0-428a-8187-5b95da3f703a",
   "metadata": {},
   "outputs": [
    {
     "data": {
      "text/plain": [
       "{'age': {'category': 'Teens', 'start': 13, 'end': 19},\n",
       " 'gender': 'Female',\n",
       " 'ethnicity': 'Native American',\n",
       " 'location': 'Asia',\n",
       " 'professionalBackground': 'Casual Moviegoer',\n",
       " 'education': \"Bachelor's Degree\",\n",
       " 'incomeLevel': 'Low Income'}"
      ]
     },
     "execution_count": 4,
     "metadata": {},
     "output_type": "execute_result"
    }
   ],
   "source": [
    "random_persona_generator = get_random_persona(demography, 42)\n",
    "next(random_persona_generator)"
   ]
  },
  {
   "cell_type": "code",
   "execution_count": 5,
   "id": "078fd586-90c5-4216-99f6-f032622afd03",
   "metadata": {},
   "outputs": [],
   "source": [
    "individual_prompt = PromptTemplate.from_template(\"\"\"\n",
    "You're an individual with a specific age, gender, or ethnic background from a defined geographic location.\n",
    "\n",
    "Those parameters are specified within the following block.\n",
    "It starts with \"BEGIN demography\" and ends with \"END demography\".\n",
    "\n",
    "BEGIN demography\n",
    "age range start: {ageStart}\n",
    "age range end: {ageEnd}\n",
    "gender: {gender}\n",
    "ethnicity: {ethnicity}\n",
    "location: {location}\n",
    "professional background: {profession}\n",
    "education: {education}\n",
    "income: {income}\n",
    "END demography\n",
    "\"\"\")"
   ]
  },
  {
   "cell_type": "code",
   "execution_count": 6,
   "id": "3f66bfea-717d-44f0-9c84-3c792f646792",
   "metadata": {},
   "outputs": [],
   "source": [
    "simple_review_prompt = PromptTemplate.from_template(\"\"\"\n",
    "Write a review about Witcher season 2? \n",
    "\"\"\")"
   ]
  },
  {
   "cell_type": "code",
   "execution_count": 7,
   "id": "4a6e9e29-3b59-40cd-b3dc-5a018104d70f",
   "metadata": {},
   "outputs": [],
   "source": [
    "project_prompt = PromptTemplate.from_template(\"\"\"\n",
    "Below are high-level movie or TV show ideas and some essential parameters.\n",
    "It starts with \"BEGIN content\" and ends with \"END content\".\n",
    "\n",
    "BEGIN content\n",
    "name: {name}\n",
    "type: {type}\n",
    "cast: {cast}\n",
    "budget: {budget}\n",
    "END content\n",
    "\"\"\")"
   ]
  },
  {
   "cell_type": "code",
   "execution_count": 8,
   "id": "10c7a470-07c5-4046-835a-e54e58f7afe4",
   "metadata": {},
   "outputs": [],
   "source": [
    "cta_prompt = PromptTemplate.from_template(\"\"\"\n",
    "Write a simple review as someone who just watched the {name}.\n",
    "Highlight points that you liked and didn't like.\n",
    "Provide a rating that you give to this content on a scale from 1 to 5.\n",
    "If you look forward to watch it again answer with 0 for No or 1 for Yes.\n",
    "Be honest, your feedback is valuable and will be applied by a studio to improve the content.\n",
    "\n",
    "Answer in JSON format, use following structure:\n",
    "{{\n",
    "    \"review\": <your answer>,\n",
    "    \"rating\": <your rating>,\n",
    "    \"lookingForward\": <your answer>\n",
    "}}\n",
    "\"\"\")"
   ]
  },
  {
   "cell_type": "code",
   "execution_count": 9,
   "id": "bb392271-5d18-429a-af62-3bd7e7ed9316",
   "metadata": {},
   "outputs": [],
   "source": [
    "full_prompt = individual_prompt + project_prompt + cta_prompt"
   ]
  },
  {
   "cell_type": "code",
   "execution_count": 10,
   "id": "ac93edb6-9206-4bf7-8f5c-1db47f610c01",
   "metadata": {},
   "outputs": [],
   "source": [
    "model=ChatOpenAI(temperature=0, model_name=\"gpt-3.5-turbo-1106\", openai_api_key=os.getenv(\"OPENAI_API_KEY\"), model_kwargs={\"response_format\": {\"type\": \"json_object\"}},)"
   ]
  },
  {
   "cell_type": "code",
   "execution_count": 11,
   "id": "9e3aabb1-8dcc-4602-81ab-43defb8c1e22",
   "metadata": {},
   "outputs": [],
   "source": [
    "def generate_demography_prompt_input(persona):\n",
    "    return {\n",
    "      \"ageStart\": persona[\"age\"][\"start\"],\n",
    "      \"ageEnd\": persona[\"age\"][\"end\"],\n",
    "      \"gender\": persona[\"gender\"],\n",
    "      \"ethnicity\": persona[\"ethnicity\"],\n",
    "      \"location\": persona[\"location\"],\n",
    "      \"profession\": persona[\"professionalBackground\"],\n",
    "      \"education\": persona[\"education\"],\n",
    "      \"income\": persona[\"incomeLevel\"]\n",
    "    }"
   ]
  },
  {
   "cell_type": "code",
   "execution_count": 12,
   "id": "9fdcbb5e-c497-4784-aac9-0d73e26be9f1",
   "metadata": {},
   "outputs": [],
   "source": [
    "def generate_content_prompt_input(content):\n",
    "    return {\n",
    "        \"name\": content[\"name\"],\n",
    "        \"type\": content[\"type\"],\n",
    "        \"cast\": \",\".join(content[\"cast\"]),\n",
    "        \"budget\": content[\"budget\"]\n",
    "    }"
   ]
  },
  {
   "cell_type": "code",
   "execution_count": 13,
   "id": "448bd915-effa-4a42-ad22-63cef6eef0ae",
   "metadata": {},
   "outputs": [],
   "source": [
    "# prompt generator\n",
    "def generate_prompt_input(persona, content):\n",
    "    return {\n",
    "        **generate_demography_prompt_input(persona),\n",
    "        **generate_content_prompt_input(content)\n",
    "    }"
   ]
  },
  {
   "cell_type": "code",
   "execution_count": 14,
   "id": "dfe8a503-c4e8-499e-9dd8-d1085705f564",
   "metadata": {},
   "outputs": [],
   "source": [
    "# # prompt testing\n",
    "# persona = next(random_persona_generator)\n",
    "# content = {\n",
    "#     \"name\": \"The witcher movie\",\n",
    "#     \"type\": \"Movie\",\n",
    "#     \"cast\": [\"Chris Hemsworth\", \"Natalia Oreiro\"],\n",
    "#     \"budget\": 4_000_000\n",
    "# }\n",
    "# prompt_input = generate_prompt_input(persona, content)\n",
    "# full_prompt.invoke(prompt_input)\n",
    "# chain = full_prompt | model \n",
    "# chain.invoke(prompt_input)"
   ]
  },
  {
   "cell_type": "code",
   "execution_count": 15,
   "id": "1a966f12-8c6b-4da6-b898-6c7a92383ed9",
   "metadata": {},
   "outputs": [],
   "source": [
    "def generate_reviews(content, how_many):\n",
    "    chain = full_prompt | model \n",
    "    for _ in range(how_many):\n",
    "        persona = next(random_persona_generator)\n",
    "        prompt_input = generate_prompt_input(persona, content)\n",
    "        review = chain.invoke(prompt_input)\n",
    "        print(review)"
   ]
  },
  {
   "cell_type": "code",
   "execution_count": 16,
   "id": "84915fba-a306-42c6-b5dd-c8d559a0285c",
   "metadata": {},
   "outputs": [
    {
     "name": "stdout",
     "output_type": "stream",
     "text": [
      "content='{\\n    \"review\": \"I really enjoyed the action scenes and the special effects in The Witcher movie. The cast did a great job in bringing the characters to life. However, I felt that the plot was a bit confusing and hard to follow at times. Overall, it was an entertaining watch.\",\\n    \"rating\": 3,\\n    \"lookingForward\": 1\\n}' response_metadata={'token_usage': {'completion_tokens': 77, 'prompt_tokens': 291, 'total_tokens': 368}, 'model_name': 'gpt-3.5-turbo-1106', 'system_fingerprint': 'fp_b953e4de39', 'finish_reason': 'stop', 'logprobs': None} id='run-f57986be-ac47-4636-a95d-ade5911a164c-0' usage_metadata={'input_tokens': 291, 'output_tokens': 77, 'total_tokens': 368}\n"
     ]
    }
   ],
   "source": [
    "content = {\n",
    "    \"name\": \"The witcher movie\",\n",
    "    \"type\": \"Movie\",\n",
    "    \"cast\": [\"Chris Hemsworth\", \"Natalia Oreiro\"],\n",
    "    \"budget\": 4_000_000\n",
    "}\n",
    "generate_reviews(content, 1)"
   ]
  },
  {
   "cell_type": "code",
   "execution_count": 17,
   "id": "dbd595b9-78a8-4514-b73a-ffea99f1f6aa",
   "metadata": {},
   "outputs": [],
   "source": [
    "#!rm data.db"
   ]
  },
  {
   "cell_type": "code",
   "execution_count": 19,
   "id": "30715f7d-235e-4867-8cee-870115fd5bc9",
   "metadata": {},
   "outputs": [],
   "source": [
    "con = sqlite3.connect('data.db')\n",
    "\n",
    "cursor = con.cursor()\n",
    "\n",
    "cursor.execute('''\n",
    "CREATE TABLE IF NOT EXISTS simulations (\n",
    "    id INTEGER PRIMARY KEY AUTOINCREMENT NOT NULL,\n",
    "    name TEXT,\n",
    "    type TEXT,\n",
    "    cast TEXT,\n",
    "    budget REAL\n",
    ")\n",
    "''')\n",
    "\n",
    "cursor.execute('''\n",
    "CREATE TABLE IF NOT EXISTS personas (\n",
    "    id INTEGER PRIMARY KEY AUTOINCREMENT NOT NULL,\n",
    "    ageStart INTEGER,\n",
    "    ageEnd INTEGER,\n",
    "    gender TEXT,\n",
    "    ethnicity TEXT,\n",
    "    location TEXT,\n",
    "    profession TEXT,\n",
    "    education TEXT,\n",
    "    income TEXT\n",
    ")\n",
    "''')\n",
    "\n",
    "cursor.execute('''\n",
    "CREATE TABLE IF NOT EXISTS reviews (\n",
    "    id INTEGER PRIMARY KEY AUTOINCREMENT NOT NULL,\n",
    "    simulation INTEGER NOT NULL,\n",
    "    source TEXT NOT NULL,\n",
    "    review TEXT NOT NULL,\n",
    "    rating REAL NOT NULL,\n",
    "    \n",
    "    FOREIGN KEY (simulation) REFERENCES simulations(ID)\n",
    ")\n",
    "''')\n",
    "\n",
    "con.commit()"
   ]
  },
  {
   "cell_type": "code",
   "execution_count": 27,
   "id": "317447f6-7b27-4f57-b732-9821e716211c",
   "metadata": {},
   "outputs": [],
   "source": [
    "def create_simulation_in_db(con, content):\n",
    "    simulation = {\n",
    "        **content,\n",
    "        \"cast\": \",\".join(content[\"cast\"])\n",
    "    }\n",
    "    with con:\n",
    "        con.execute(\"INSERT INTO simulations VALUES(NULL, :name, :type, :cast, :budget);\", simulation)\n",
    "\n",
    "def create_review_in_db(con, simulation, persona, review):\n",
    "    with con:\n",
    "        con.execute(\"INSERT INTO reviews VALUES(:simulation, :source, :review, :rating\", review)\n",
    "\n",
    "def create_persona_in_db(con, persona):\n",
    "    data = generate_demography_prompt_input(persona)\n",
    "    with con:\n",
    "        con.execute(\"\"\"\n",
    "            INSERT INTO personas VALUES (:ageStart, :ageEnd, :gender, :ethnicity, :location, :profession, :education, :income)\n",
    "        \"\"\", data)"
   ]
  },
  {
   "cell_type": "code",
   "execution_count": 28,
   "id": "f244fce9-e891-4861-9a01-86ce868fde51",
   "metadata": {},
   "outputs": [],
   "source": [
    "with con:\n",
    "    create_simulation_in_db(con, content)"
   ]
  },
  {
   "cell_type": "code",
   "execution_count": null,
   "id": "9cca9b13-4488-4666-89a6-821e32a449a2",
   "metadata": {},
   "outputs": [],
   "source": []
  }
 ],
 "metadata": {
  "kernelspec": {
   "display_name": "Python 3 (ipykernel)",
   "language": "python",
   "name": "python3"
  },
  "language_info": {
   "codemirror_mode": {
    "name": "ipython",
    "version": 3
   },
   "file_extension": ".py",
   "mimetype": "text/x-python",
   "name": "python",
   "nbconvert_exporter": "python",
   "pygments_lexer": "ipython3",
   "version": "3.11.9"
  }
 },
 "nbformat": 4,
 "nbformat_minor": 5
}
